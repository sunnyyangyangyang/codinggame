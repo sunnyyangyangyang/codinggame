{
 "cells": [
  {
   "cell_type": "code",
   "execution_count": 13,
   "id": "initial_id",
   "metadata": {
    "collapsed": true,
    "ExecuteTime": {
     "end_time": "2024-04-07T18:44:18.872331100Z",
     "start_time": "2024-04-07T18:44:18.862114600Z"
    }
   },
   "outputs": [],
   "source": [
    "class game:\n",
    "    def __init__(self,ram:list,input:list):\n",
    "        self.input = input\n",
    "        self.ram = ram\n",
    "        self.output=[]\n",
    "        self.current = None\n",
    "        self.process = None\n",
    "        # self.current_read = None\n",
    "    def __call__(self, *args):\n",
    "        # print(args[0].__name__,self.current)\n",
    "        # print(args)\n",
    "        for arg in args:\n",
    "            arg()\n",
    "            #print(self.process,self.current)\n",
    "    def inbox(self):\n",
    "        def f():\n",
    "            self.current = self.input.pop(0)\n",
    "            self.process = 'inbox'\n",
    "        return f\n",
    "    def outbox(self):\n",
    "        def f():\n",
    "            self.output.append(self.current)\n",
    "            self.process = 'outbox'\n",
    "        return f\n",
    "    def copyfrom(self,idx):\n",
    "        def f():\n",
    "            self.current = self.ram[idx]\n",
    "            self.process = 'copyfrom'\n",
    "        return f\n",
    "    def copyto(self,idx):\n",
    "        def f():\n",
    "            self.ram[idx] = self.current\n",
    "            self.process = 'copyto'\n",
    "        return f\n",
    "\n",
    "    def add(self,idx):\n",
    "        def f():\n",
    "            self.current += self.ram[idx]\n",
    "        return f\n",
    "    def sub(self,idx):\n",
    "        def f():\n",
    "            self.current -= self.ram[idx]\n",
    "        return f\n",
    "    def jump0(self,*args):\n",
    "        def f():\n",
    "            if self.current != 0:\n",
    "                self(*args)\n",
    "        return f\n",
    "    def jump_neg(self,*args):\n",
    "        # print(self.current,self.current >= 0)\n",
    "        def f():\n",
    "            if self.current >= 0:\n",
    "                self(*args)\n",
    "            self.process = 'jump_net'\n",
    "        return f\n",
    "    def jump(self,n,*args):\n",
    "        def f():\n",
    "            loop = []\n",
    "            for i in range(n):\n",
    "                loop += args\n",
    "            self(*loop)\n",
    "        return f\n",
    "    def func(self,*args):\n",
    "        f = lambda:self(*args)\n",
    "        return f\n",
    "    def __str__(self):\n",
    "        return 'current value '+str(self.current)+' process '+str(self.process)+' ram '+str(self.ram)+' output' +str(self.output)+' input'+str(self.input)\n",
    "    def print(self):\n",
    "        def f():\n",
    "            print(self)\n",
    "        return f"
   ]
  },
  {
   "cell_type": "code",
   "outputs": [],
   "source": [
    "g = game(ram=[0,0,0,0,0,1],input=[-1,2,3,-4,5,6,-7,-8])\n",
    "check1 = g.func(g.copyfrom(4),\n",
    "                g.copyto(0),\n",
    "                g.inbox(),\n",
    "                g.jump_neg(g.copyfrom(5),\n",
    "                           g.copyto(0)))\n",
    "check2 = g.func(g.copyfrom(4),\n",
    "                g.copyto(1),\n",
    "                g.inbox(),\n",
    "                g.jump_neg(g.copyfrom(5),\n",
    "                           g.copyto(1)))\n",
    "abs = g.func(g.copyto(3),\n",
    "             g.jump_neg(g.copyfrom(4),\n",
    "                        g.sub(3),\n",
    "                        g.copyto(3),\n",
    "                        ),\n",
    "             g.copyfrom(4),\n",
    "             g.sub(3),\n",
    "             )"
   ],
   "metadata": {
    "collapsed": false,
    "ExecuteTime": {
     "end_time": "2024-04-07T18:44:43.012326300Z",
     "start_time": "2024-04-07T18:44:43.007427800Z"
    }
   },
   "id": "58a61517009bc75",
   "execution_count": 17
  },
  {
   "cell_type": "code",
   "outputs": [
    {
     "name": "stdout",
     "output_type": "stream",
     "text": [
      "current value 0 process outbox ram [0, 0, 0, 0, 0, 1] output[1, 1, 0, 0] input[]\n"
     ]
    }
   ],
   "source": [
    "g(g.jump(4,\n",
    "         check1,\n",
    "         check2,\n",
    "         #g.print(),\n",
    "         g.copyfrom(1),\n",
    "         g.sub(0),\n",
    "         abs,\n",
    "         g.copyto(2),\n",
    "         g.outbox()),\n",
    "  g.print())"
   ],
   "metadata": {
    "collapsed": false,
    "ExecuteTime": {
     "end_time": "2024-04-07T18:44:43.417004600Z",
     "start_time": "2024-04-07T18:44:43.414094200Z"
    }
   },
   "id": "46f7a6763b7f8ef0",
   "execution_count": 18
  }
 ],
 "metadata": {
  "kernelspec": {
   "display_name": "Python 3",
   "language": "python",
   "name": "python3"
  },
  "language_info": {
   "codemirror_mode": {
    "name": "ipython",
    "version": 2
   },
   "file_extension": ".py",
   "mimetype": "text/x-python",
   "name": "python",
   "nbconvert_exporter": "python",
   "pygments_lexer": "ipython2",
   "version": "2.7.6"
  }
 },
 "nbformat": 4,
 "nbformat_minor": 5
}
